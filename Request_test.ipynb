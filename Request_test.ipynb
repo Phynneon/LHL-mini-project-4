{
 "cells": [
  {
   "cell_type": "code",
   "execution_count": 9,
   "id": "bc4ba74b",
   "metadata": {},
   "outputs": [
    {
     "name": "stdout",
     "output_type": "stream",
     "text": [
      "\"You are likely to get a loan\"\n",
      "\n"
     ]
    }
   ],
   "source": [
    "'''This request test is credit to Sebastien Garneau from oct 2022 cohort'''\n",
    "\n",
    "## Python test for flask to test locally\n",
    "import requests as r\n",
    "import pandas as pd\n",
    "import json\n",
    "\n",
    "\n",
    "base_url = 'http://44.212.69.149:5000/' #base url local host\n",
    "\n",
    "json_data = {\"Gender\": \"Male\",\n",
    "            \"Married\": \"No\",\n",
    "            \"Dependents\": '1',\n",
    "            \"Education\": \"Graduate\",\n",
    "            \"Self_Employed\": \"Yes\",\n",
    "            \"ApplicantIncome\": 4692,\n",
    "            \"CoapplicantIncome\": 0.0,\n",
    "            \"LoanAmount\": 106.0,\n",
    "            \"Loan_Amount_Term\": 360.0,\n",
    "            \"Credit_History\": 1.0,\n",
    "            \"Property_Area\": \"Rural\"\n",
    "            }\n",
    "## -> Should not be approved\n",
    "\n",
    "\n",
    "# Get Response\n",
    "# response = r.get(base_url)\n",
    "response = r.post(base_url + \"prediction\", json = json_data)\n",
    "print(response.text)"
   ]
  }
 ],
 "metadata": {
  "kernelspec": {
   "display_name": "Python 3 (ipykernel)",
   "language": "python",
   "name": "python3"
  },
  "language_info": {
   "codemirror_mode": {
    "name": "ipython",
    "version": 3
   },
   "file_extension": ".py",
   "mimetype": "text/x-python",
   "name": "python",
   "nbconvert_exporter": "python",
   "pygments_lexer": "ipython3",
   "version": "3.9.13"
  }
 },
 "nbformat": 4,
 "nbformat_minor": 5
}
